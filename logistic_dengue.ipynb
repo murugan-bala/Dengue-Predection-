{
 "cells": [
  {
   "cell_type": "code",
   "execution_count": 1,
   "metadata": {},
   "outputs": [],
   "source": [
    "import pandas as pd\n",
    "import matplotlib.pyplot as plt\n",
    "import numpy as np\n"
   ]
  },
  {
   "cell_type": "code",
   "execution_count": 2,
   "metadata": {},
   "outputs": [
    {
     "data": {
      "text/html": [
       "<div>\n",
       "<style scoped>\n",
       "    .dataframe tbody tr th:only-of-type {\n",
       "        vertical-align: middle;\n",
       "    }\n",
       "\n",
       "    .dataframe tbody tr th {\n",
       "        vertical-align: top;\n",
       "    }\n",
       "\n",
       "    .dataframe thead th {\n",
       "        text-align: right;\n",
       "    }\n",
       "</style>\n",
       "<table border=\"1\" class=\"dataframe\">\n",
       "  <thead>\n",
       "    <tr style=\"text-align: right;\">\n",
       "      <th></th>\n",
       "      <th>s.no</th>\n",
       "      <th>gender</th>\n",
       "      <th>age</th>\n",
       "      <th>country</th>\n",
       "      <th>state</th>\n",
       "      <th>hospital</th>\n",
       "      <th>year</th>\n",
       "      <th>temp</th>\n",
       "      <th>vomiting</th>\n",
       "      <th>eyepain</th>\n",
       "      <th>platelets</th>\n",
       "      <th>fatigue</th>\n",
       "      <th>fever</th>\n",
       "      <th>musclepain</th>\n",
       "      <th>skinrash</th>\n",
       "      <th>disease</th>\n",
       "    </tr>\n",
       "  </thead>\n",
       "  <tbody>\n",
       "    <tr>\n",
       "      <th>0</th>\n",
       "      <td>1</td>\n",
       "      <td>M</td>\n",
       "      <td>3</td>\n",
       "      <td>IND</td>\n",
       "      <td>TN</td>\n",
       "      <td>APPLO</td>\n",
       "      <td>2018</td>\n",
       "      <td>104</td>\n",
       "      <td>Y</td>\n",
       "      <td>Y</td>\n",
       "      <td>90000</td>\n",
       "      <td>Y</td>\n",
       "      <td>H</td>\n",
       "      <td>Y</td>\n",
       "      <td>Y</td>\n",
       "      <td>P</td>\n",
       "    </tr>\n",
       "    <tr>\n",
       "      <th>1</th>\n",
       "      <td>2</td>\n",
       "      <td>M</td>\n",
       "      <td>6</td>\n",
       "      <td>IND</td>\n",
       "      <td>AP</td>\n",
       "      <td>GOVT</td>\n",
       "      <td>2018</td>\n",
       "      <td>97</td>\n",
       "      <td>N</td>\n",
       "      <td>Y</td>\n",
       "      <td>160000</td>\n",
       "      <td>N</td>\n",
       "      <td>L</td>\n",
       "      <td>N</td>\n",
       "      <td>N</td>\n",
       "      <td>N</td>\n",
       "    </tr>\n",
       "    <tr>\n",
       "      <th>2</th>\n",
       "      <td>3</td>\n",
       "      <td>M</td>\n",
       "      <td>5</td>\n",
       "      <td>IND</td>\n",
       "      <td>KL</td>\n",
       "      <td>GOVT</td>\n",
       "      <td>2018</td>\n",
       "      <td>98</td>\n",
       "      <td>N</td>\n",
       "      <td>N</td>\n",
       "      <td>400000</td>\n",
       "      <td>N</td>\n",
       "      <td>H</td>\n",
       "      <td>N</td>\n",
       "      <td>N</td>\n",
       "      <td>N</td>\n",
       "    </tr>\n",
       "    <tr>\n",
       "      <th>3</th>\n",
       "      <td>4</td>\n",
       "      <td>M</td>\n",
       "      <td>9</td>\n",
       "      <td>IND</td>\n",
       "      <td>KA</td>\n",
       "      <td>GOVT</td>\n",
       "      <td>2018</td>\n",
       "      <td>103</td>\n",
       "      <td>Y</td>\n",
       "      <td>Y</td>\n",
       "      <td>95000</td>\n",
       "      <td>N</td>\n",
       "      <td>H</td>\n",
       "      <td>Y</td>\n",
       "      <td>N</td>\n",
       "      <td>P</td>\n",
       "    </tr>\n",
       "    <tr>\n",
       "      <th>4</th>\n",
       "      <td>5</td>\n",
       "      <td>F</td>\n",
       "      <td>10</td>\n",
       "      <td>IND</td>\n",
       "      <td>KA</td>\n",
       "      <td>GOVT</td>\n",
       "      <td>2018</td>\n",
       "      <td>97</td>\n",
       "      <td>N</td>\n",
       "      <td>N</td>\n",
       "      <td>200000</td>\n",
       "      <td>N</td>\n",
       "      <td>L</td>\n",
       "      <td>N</td>\n",
       "      <td>N</td>\n",
       "      <td>N</td>\n",
       "    </tr>\n",
       "  </tbody>\n",
       "</table>\n",
       "</div>"
      ],
      "text/plain": [
       "   s.no gender  age country state hospital  year  temp vomiting eyepain  \\\n",
       "0     1      M    3     IND    TN    APPLO  2018   104        Y       Y   \n",
       "1     2      M    6     IND    AP     GOVT  2018    97        N       Y   \n",
       "2     3      M    5     IND    KL     GOVT  2018    98        N       N   \n",
       "3     4      M    9     IND    KA     GOVT  2018   103        Y       Y   \n",
       "4     5      F   10     IND    KA     GOVT  2018    97        N       N   \n",
       "\n",
       "   platelets fatigue fever musclepain skinrash disease  \n",
       "0      90000       Y     H          Y        Y       P  \n",
       "1     160000       N     L          N        N       N  \n",
       "2     400000       N     H          N        N       N  \n",
       "3      95000       N     H          Y        N       P  \n",
       "4     200000       N     L          N        N       N  "
      ]
     },
     "execution_count": 2,
     "metadata": {},
     "output_type": "execute_result"
    }
   ],
   "source": [
    "dataset=pd.read_csv('dengue.csv')\n",
    "dataset.head()"
   ]
  },
  {
   "cell_type": "code",
   "execution_count": 3,
   "metadata": {},
   "outputs": [
    {
     "name": "stdout",
     "output_type": "stream",
     "text": [
      "     s.no gender  age country state hospital  year  temp  vomiting  eyepain  \\\n",
      "0       1      M    3     IND    TN    APPLO  2018   104         1        1   \n",
      "1       2      M    6     IND    AP     GOVT  2018    97         0        1   \n",
      "2       3      M    5     IND    KL     GOVT  2018    98         0        0   \n",
      "3       4      M    9     IND    KA     GOVT  2018   103         1        1   \n",
      "4       5      F   10     IND    KA     GOVT  2018    97         0        0   \n",
      "5       6      F   15     IND    KA    APPLO  2018    98         0        1   \n",
      "6       7      F   30     IND    KL     GOVT  2018   103         1        1   \n",
      "7       8      M   52     IND    KL     GOVT  2018   103         0        1   \n",
      "8       9      M   52     IND    TN     GOVT  2018   100         1        0   \n",
      "9      10      F   51     IND    KA    APPLO  2018   102         0        0   \n",
      "10     11      F   12     IND    TN     GOVT  2018    97         1        0   \n",
      "11     12      F   31     IND    TN     GOVT  2018    96         0        0   \n",
      "12     13      F   25     IND    TN     GOVT  2018    99         1        0   \n",
      "13     14      M   27     IND    TN     GOVT  2018   101         1        1   \n",
      "14     15      F   29     IND    KA     GOVT  2018   104         1        0   \n",
      "15     16      F   30     IND    KL     GOVT  2018    97         0        1   \n",
      "16     17      F   28     IND    KL     GOVT  2018    98         0        0   \n",
      "17     18      M    3     IND    TN     GOVT  2018    99         1        0   \n",
      "18     19      F    4     IND    AP     GOVT  2018   104         1        0   \n",
      "19     20      M   45     IND    AP     GOVT  2018   102         1        0   \n",
      "20     21      F   53     IND    AP    APPLO  2018    99         1        0   \n",
      "21     22      M   45     IND    TN    APPLO  2018    98         0        0   \n",
      "22     23      M   49     IND    AP     GOVT  2018   100         1        0   \n",
      "23     24      M   43     IND    KL    APPLO  2018   102         0        0   \n",
      "24     25      M   32     IND    KA     GOVT  2018   103         1        1   \n",
      "25     26      M   25     IND    KA    APPLO  2018    99         1        0   \n",
      "26     27      F   12     IND    KL     GOVT  2018    98         0        0   \n",
      "27     28      F   16     IND    TN     GOVT  2018    97         0        1   \n",
      "28     29      M   20     IND    TN     GOVT  2018   102         1        1   \n",
      "29     30      F   44     IND    TN     GOVT  2018    96         1        0   \n",
      "..    ...    ...  ...     ...   ...      ...   ...   ...       ...      ...   \n",
      "970   971      F   67     IND    KA     GOVT  2018    95         1        0   \n",
      "971   972      M   35     IND    KA     GOVT  2018   104         1        1   \n",
      "972   973      F   10     IND    AP     GOVT  2018   102         1        0   \n",
      "973   974      M   11     IND    TN    APPLO  2018   105         1        1   \n",
      "974   975      M   18     IND    TN     GOVT  2018    98         0        0   \n",
      "975   976      M   90     IND    TN     GOVT  2018    96         1        0   \n",
      "976   977      F   12     IND    KL     GOVT  2018    99         1        0   \n",
      "977   978      M   37     IND    KA    APPLO  2018   100         1        0   \n",
      "978   979      F   38     IND    AP     GOVT  2018    96         1        0   \n",
      "979   980      F   43     IND    KL     GOVT  2018    98         0        0   \n",
      "980   981      F   92     IND    KA     GOVT  2018   103         1        1   \n",
      "981   982      M   45     IND    TN     GOVT  2018   102         1        0   \n",
      "982   983      M   64     IND    TN    APPLO  2018    98         1        0   \n",
      "983   984      F   57     IND    KA     GOVT  2018    95         1        0   \n",
      "984   985      F   24     IND    KA     GOVT  2018    95         1        0   \n",
      "985   986      M   29     IND    KL     GOVT  2018    95         1        0   \n",
      "986   987      M   30     IND    KL     GOVT  2018    96         0        1   \n",
      "987   988      F   61     IND    KA     GOVT  2018    98         0        0   \n",
      "988   989      F    3     IND    TN    APPLO  2018   100         1        1   \n",
      "989   990      M    3     IND    AP     GOVT  2018    98         1        0   \n",
      "990   991      M    3     IND    TN    APPLO  2018   104         1        1   \n",
      "991   992      M    6     IND    AP     GOVT  2018    97         0        1   \n",
      "992   993      M    5     IND    KL     GOVT  2018    98         0        0   \n",
      "993   994      M    9     IND    KA     GOVT  2018   103         1        1   \n",
      "994   995      F   10     IND    KA     GOVT  2018    97         0        0   \n",
      "995   996      F   15     IND    KA    APPLO  2018    98         0        1   \n",
      "996   997      F   30     IND    KL     GOVT  2018   103         1        1   \n",
      "997   998      M   52     IND    KL     GOVT  2018   103         1        1   \n",
      "998   999      M   52     IND    TN     GOVT  2018   100         1        0   \n",
      "999  1000      F   51     IND    KA    APPLO  2018   102         0        0   \n",
      "\n",
      "     platelets  fatigue  fever  musclepain  skinrash  disease  \n",
      "0        90000        1      0           1         1        1  \n",
      "1       160000        0      1           0         0        0  \n",
      "2       400000        0      0           0         0        0  \n",
      "3        95000        0      0           1         0        1  \n",
      "4       200000        0      1           0         0        0  \n",
      "5       300000        1      1           0         1        0  \n",
      "6        60000        1      0           0         1        1  \n",
      "7        50000        0      0           1         1        1  \n",
      "8       300000        0      0           0         0        0  \n",
      "9       400000        0      0           0         0        0  \n",
      "10      150000        1      0           0         0        0  \n",
      "11      200000        0      0           0         0        0  \n",
      "12       70000        1      0           1         1        1  \n",
      "13       70000        1      0           0         1        1  \n",
      "14      352000        1      0           0         0        0  \n",
      "15      235251        0      1           0         0        0  \n",
      "16      233333        0      0           0         0        0  \n",
      "17       60000        1      0           1         1        1  \n",
      "18       50000        1      0           1         1        1  \n",
      "19      385555        0      0           0         0        0  \n",
      "20       98888        1      0           1         1        1  \n",
      "21      352000        0      0           0         0        0  \n",
      "22      235251        0      0           0         0        0  \n",
      "23      233333        0      0           0         0        0  \n",
      "24       60000        1      0           0         1        1  \n",
      "25       50000        1      0           1         1        1  \n",
      "26      288878        0      0           0         0        0  \n",
      "27      399255        0      1           0         0        0  \n",
      "28       89000        1      0           0         0        1  \n",
      "29      288878        0      0           0         0        0  \n",
      "..         ...      ...    ...         ...       ...      ...  \n",
      "970     399255        0      0           0         0        0  \n",
      "971      99000        1      0           0         1        1  \n",
      "972      75557        1      0           1         1        1  \n",
      "973      70000        1      0           0         1        1  \n",
      "974     288878        0      0           0         0        0  \n",
      "975     399255        0      0           0         0        0  \n",
      "976     120000        1      0           1         1        1  \n",
      "977      95000        1      0           1         1        1  \n",
      "978     288878        0      0           0         0        0  \n",
      "979     399255        0      0           0         0        0  \n",
      "980      70000        1      0           0         1        1  \n",
      "981      70000        1      0           1         1        1  \n",
      "982      70000        1      0           1         1        1  \n",
      "983     352000        0      0           0         0        0  \n",
      "984     235251        0      0           0         0        0  \n",
      "985     233333        0      0           0         0        0  \n",
      "986     399255        0      1           0         0        0  \n",
      "987     399255        0      1           0         0        0  \n",
      "988      60000        1      0           0         1        1  \n",
      "989      50000        1      0           1         1        1  \n",
      "990      95000        1      0           1         1        1  \n",
      "991     352000        0      1           0         0        0  \n",
      "992     235251        0      0           0         0        0  \n",
      "993      70000        0      0           1         0        1  \n",
      "994     399255        0      1           0         0        0  \n",
      "995     400000        1      1           0         1        0  \n",
      "996      70000        1      0           0         1        1  \n",
      "997     352000        1      0           0         1        0  \n",
      "998     235251        0      0           0         0        0  \n",
      "999     233333        0      0           0         0        0  \n",
      "\n",
      "[1000 rows x 16 columns]\n"
     ]
    }
   ],
   "source": [
    "from sklearn.preprocessing import LabelEncoder\n",
    "columnlist=['vomiting','eyepain','fatigue','fever','musclepain','skinrash','disease']\n",
    "for i in columnlist:\n",
    "        labelencoder_X=LabelEncoder()\n",
    "        dataset[i]=labelencoder_X.fit_transform(dataset[i])\n",
    "print(dataset)"
   ]
  },
  {
   "cell_type": "code",
   "execution_count": 4,
   "metadata": {},
   "outputs": [
    {
     "data": {
      "text/plain": [
       "(1000, 8)"
      ]
     },
     "execution_count": 4,
     "metadata": {},
     "output_type": "execute_result"
    }
   ],
   "source": [
    "X=dataset.iloc[:,7:-1].values\n",
    "X.shape"
   ]
  },
  {
   "cell_type": "code",
   "execution_count": 5,
   "metadata": {},
   "outputs": [
    {
     "data": {
      "text/plain": [
       "(1000, 1)"
      ]
     },
     "execution_count": 5,
     "metadata": {},
     "output_type": "execute_result"
    }
   ],
   "source": [
    "Y=dataset.iloc[:,15:].values\n",
    "Y.shape"
   ]
  },
  {
   "cell_type": "code",
   "execution_count": 6,
   "metadata": {},
   "outputs": [],
   "source": [
    "#from sklearn.cross_validation import train_test_split\n",
    "from sklearn.model_selection import train_test_split"
   ]
  },
  {
   "cell_type": "code",
   "execution_count": 7,
   "metadata": {},
   "outputs": [],
   "source": [
    "#Spliting the Datasets \n",
    "#from sklearn.cross_validation import train_test_split\n",
    "from sklearn.model_selection import train_test_split\n",
    "X_train,X_test,Y_train,Y_test  = train_test_split(X,Y,test_size =0.2,random_state=0)"
   ]
  },
  {
   "cell_type": "code",
   "execution_count": 8,
   "metadata": {},
   "outputs": [
    {
     "name": "stderr",
     "output_type": "stream",
     "text": [
      "/home/sands/anaconda3/lib/python3.6/site-packages/sklearn/linear_model/logistic.py:433: FutureWarning: Default solver will be changed to 'lbfgs' in 0.22. Specify a solver to silence this warning.\n",
      "  FutureWarning)\n",
      "/home/sands/anaconda3/lib/python3.6/site-packages/sklearn/utils/validation.py:761: DataConversionWarning: A column-vector y was passed when a 1d array was expected. Please change the shape of y to (n_samples, ), for example using ravel().\n",
      "  y = column_or_1d(y, warn=True)\n"
     ]
    },
    {
     "data": {
      "text/plain": [
       "LogisticRegression(C=1.0, class_weight=None, dual=False, fit_intercept=True,\n",
       "          intercept_scaling=1, max_iter=100, multi_class='warn',\n",
       "          n_jobs=None, penalty='l2', random_state=None, solver='warn',\n",
       "          tol=0.0001, verbose=0, warm_start=False)"
      ]
     },
     "execution_count": 8,
     "metadata": {},
     "output_type": "execute_result"
    }
   ],
   "source": [
    "#Building the Model\n",
    "from sklearn.linear_model import LogisticRegression\n",
    "regressor = LogisticRegression()\n",
    "regressor.fit(X_train,Y_train)"
   ]
  },
  {
   "cell_type": "code",
   "execution_count": 9,
   "metadata": {},
   "outputs": [
    {
     "data": {
      "text/plain": [
       "array([1, 0, 0, 0, 0, 1, 0, 1, 0, 1, 0, 0, 1, 1, 0, 0, 0, 0, 0, 1, 1, 1,\n",
       "       1, 0, 1, 0, 1, 0, 0, 0, 0, 1, 1, 1, 1, 1, 1, 0, 0, 0, 1, 1, 1, 0,\n",
       "       0, 1, 0, 1, 0, 0, 0, 1, 1, 1, 0, 0, 1, 1, 0, 0, 1, 0, 1, 0, 1, 1,\n",
       "       1, 1, 1, 1, 1, 0, 0, 0, 0, 0, 0, 0, 1, 1, 0, 1, 1, 1, 1, 1, 1, 1,\n",
       "       0, 1, 1, 1, 1, 1, 0, 1, 1, 0, 0, 0, 0, 1, 0, 0, 1, 1, 1, 0, 0, 0,\n",
       "       1, 0, 0, 1, 0, 0, 0, 1, 0, 1, 0, 1, 0, 0, 1, 1, 0, 1, 0, 0, 1, 1,\n",
       "       0, 1, 1, 0, 0, 0, 0, 0, 0, 0, 1, 0, 1, 1, 0, 1, 1, 0, 1, 0, 1, 1,\n",
       "       0, 1, 1, 0, 0, 0, 1, 0, 0, 1, 1, 1, 0, 0, 1, 0, 1, 1, 1, 0, 0, 0,\n",
       "       1, 1, 0, 1, 1, 0, 1, 1, 1, 1, 1, 1, 1, 1, 1, 0, 0, 0, 0, 1, 0, 1,\n",
       "       0, 0])"
      ]
     },
     "execution_count": 9,
     "metadata": {},
     "output_type": "execute_result"
    }
   ],
   "source": [
    "Y_pred = regressor.predict(X_test) \n",
    "Y_pred"
   ]
  },
  {
   "cell_type": "code",
   "execution_count": 10,
   "metadata": {},
   "outputs": [
    {
     "name": "stdout",
     "output_type": "stream",
     "text": [
      "ACC: 0.9951456310679612\n"
     ]
    }
   ],
   "source": [
    "from sklearn.metrics import roc_auc_score\n",
    "print(\"ACC:\",roc_auc_score(Y_test,Y_pred))"
   ]
  },
  {
   "cell_type": "code",
   "execution_count": 11,
   "metadata": {},
   "outputs": [
    {
     "data": {
      "text/plain": [
       "0.9799819837854069"
      ]
     },
     "execution_count": 11,
     "metadata": {},
     "output_type": "execute_result"
    }
   ],
   "source": [
    "from sklearn.metrics import r2_score \n",
    "error=r2_score(Y_test,Y_pred)\n",
    "error"
   ]
  },
  {
   "cell_type": "code",
   "execution_count": 12,
   "metadata": {},
   "outputs": [
    {
     "name": "stdout",
     "output_type": "stream",
     "text": [
      "enter dengue inputs Symptoms : 102 0 0 160000 0 1 0 0\n",
      "[102, 0, 0, 160000, 0, 1, 0, 0]\n"
     ]
    }
   ],
   "source": [
    "#x=[102,0,0,160000,0,1,0,0]\n",
    "s = input(\"enter dengue inputs Symptoms : \")\n",
    "x = list(map(int, s.split()))\n",
    "print(x)"
   ]
  },
  {
   "cell_type": "code",
   "execution_count": 13,
   "metadata": {},
   "outputs": [
    {
     "data": {
      "text/plain": [
       "array([0])"
      ]
     },
     "execution_count": 13,
     "metadata": {},
     "output_type": "execute_result"
    }
   ],
   "source": [
    "#Y_pred = regressor.predict([[102,0,0,160000,0,1,0,0]]) \n",
    "Y_pred = regressor.predict([x]) \n",
    "Y_pred"
   ]
  },
  {
   "cell_type": "code",
   "execution_count": 16,
   "metadata": {},
   "outputs": [
    {
     "ename": "NameError",
     "evalue": "name 'ser' is not defined",
     "output_type": "error",
     "traceback": [
      "\u001b[0;31m---------------------------------------------------------------------------\u001b[0m",
      "\u001b[0;31mNameError\u001b[0m                                 Traceback (most recent call last)",
      "\u001b[0;32m<ipython-input-16-87a701a22446>\u001b[0m in \u001b[0;36m<module>\u001b[0;34m\u001b[0m\n\u001b[1;32m      2\u001b[0m \u001b[0;32mimport\u001b[0m \u001b[0mtime\u001b[0m\u001b[0;34m\u001b[0m\u001b[0;34m\u001b[0m\u001b[0m\n\u001b[1;32m      3\u001b[0m \u001b[0;31m#ser=serial.Serial('/dev/ttyUSB0', 9600)\u001b[0m\u001b[0;34m\u001b[0m\u001b[0;34m\u001b[0m\u001b[0;34m\u001b[0m\u001b[0m\n\u001b[0;32m----> 4\u001b[0;31m \u001b[0mser\u001b[0m\u001b[0;34m.\u001b[0m\u001b[0mwrite\u001b[0m\u001b[0;34m(\u001b[0m\u001b[0mY_pred\u001b[0m\u001b[0;34m)\u001b[0m\u001b[0;34m\u001b[0m\u001b[0;34m\u001b[0m\u001b[0m\n\u001b[0m",
      "\u001b[0;31mNameError\u001b[0m: name 'ser' is not defined"
     ]
    }
   ],
   "source": [
    "import serial\n",
    "import time\n",
    "#ser=serial.Serial('/dev/ttyUSB0', 9600)\n",
    "ser.write(Y_pred)"
   ]
  },
  {
   "cell_type": "code",
   "execution_count": 17,
   "metadata": {},
   "outputs": [
    {
     "name": "stderr",
     "output_type": "stream",
     "text": [
      "/home/sands/anaconda3/lib/python3.6/site-packages/pandas/plotting/_misc.py:108: UserWarning: Attempting to set identical left==right results\n",
      "in singular transformations; automatically expanding.\n",
      "left=2018.0, right=2018.0\n",
      "  ax.set_xlim(boundaries_list[j])\n",
      "/home/sands/anaconda3/lib/python3.6/site-packages/pandas/plotting/_misc.py:109: UserWarning: Attempting to set identical bottom==top results\n",
      "in singular transformations; automatically expanding.\n",
      "bottom=2018.0, top=2018.0\n",
      "  ax.set_ylim(boundaries_list[i])\n",
      "/home/sands/anaconda3/lib/python3.6/site-packages/pandas/plotting/_misc.py:100: UserWarning: Attempting to set identical left==right results\n",
      "in singular transformations; automatically expanding.\n",
      "left=2018.0, right=2018.0\n",
      "  ax.set_xlim(boundaries_list[i])\n"
     ]
    },
    {
     "data": {
      "text/plain": [
       "<function matplotlib.pyplot.show(*args, **kw)>"
      ]
     },
     "execution_count": 17,
     "metadata": {},
     "output_type": "execute_result"
    },
    {
     "data": {
      "image/png": "[encoded data removed]",
      "text/plain": [
       "<Figure size 432x288 with 144 Axes>"
      ]
     },
     "metadata": {
      "needs_background": "light"
     },
     "output_type": "display_data"
    }
   ],
   "source": [
    "from pandas.plotting import scatter_matrix\n",
    "scatter_matrix(dataset)\n",
    "plt.show"
   ]
  },
  {
   "cell_type": "code",
   "execution_count": 18,
   "metadata": {},
   "outputs": [
    {
     "data": {
      "text/plain": [
       "array([[<matplotlib.axes._subplots.AxesSubplot object at 0x7f20793c8b00>,\n",
       "        <matplotlib.axes._subplots.AxesSubplot object at 0x7f20794f9940>,\n",
       "        <matplotlib.axes._subplots.AxesSubplot object at 0x7f207931f780>],\n",
       "       [<matplotlib.axes._subplots.AxesSubplot object at 0x7f20793279e8>,\n",
       "        <matplotlib.axes._subplots.AxesSubplot object at 0x7f2079332c50>,\n",
       "        <matplotlib.axes._subplots.AxesSubplot object at 0x7f20792c0eb8>],\n",
       "       [<matplotlib.axes._subplots.AxesSubplot object at 0x7f20792e3160>,\n",
       "        <matplotlib.axes._subplots.AxesSubplot object at 0x7f2079284400>,\n",
       "        <matplotlib.axes._subplots.AxesSubplot object at 0x7f2079284438>],\n",
       "       [<matplotlib.axes._subplots.AxesSubplot object at 0x7f2079247898>,\n",
       "        <matplotlib.axes._subplots.AxesSubplot object at 0x7f2079268b00>,\n",
       "        <matplotlib.axes._subplots.AxesSubplot object at 0x7f207920ce48>]],\n",
       "      dtype=object)"
      ]
     },
     "execution_count": 18,
     "metadata": {},
     "output_type": "execute_result"
    },
    {
     "data": {
      "image/png": "[encoded data removed]",
      "text/plain": [
       "<Figure size 432x288 with 12 Axes>"
      ]
     },
     "metadata": {
      "needs_background": "light"
     },
     "output_type": "display_data"
    }
   ],
   "source": [
    "#dataset.plot(kind='box',subplots=True , layout=(2,2), sharex=False ,sharey=False)\n",
    "#plt.show()\n",
    "dataset.hist()"
   ]
  },
  {
   "cell_type": "code",
   "execution_count": 19,
   "metadata": {},
   "outputs": [
    {
     "data": {
      "image/png": "[encoded data removed]",
      "text/plain": [
       "<Figure size 432x288 with 1 Axes>"
      ]
     },
     "metadata": {
      "needs_background": "light"
     },
     "output_type": "display_data"
    }
   ],
   "source": [
    "plt.scatter(dataset['temp'],dataset['disease'])\n",
    "plt.show()\n"
   ]
  },
  {
   "cell_type": "code",
   "execution_count": 20,
   "metadata": {},
   "outputs": [
    {
     "data": {
      "image/png": "[encoded data removed]",
      "text/plain": [
       "<Figure size 432x288 with 1 Axes>"
      ]
     },
     "metadata": {
      "needs_background": "light"
     },
     "output_type": "display_data"
    }
   ],
   "source": [
    "plt.plot(dataset['platelets'],dataset['disease'])\n",
    "plt.show()\n"
   ]
  },
  {
   "cell_type": "code",
   "execution_count": 21,
   "metadata": {},
   "outputs": [
    {
     "data": {
      "image/png": "[encoded data removed]",
      "text/plain": [
       "<Figure size 432x288 with 1 Axes>"
      ]
     },
     "metadata": {
      "needs_background": "light"
     },
     "output_type": "display_data"
    }
   ],
   "source": [
    "plt.scatter(dataset['vomiting'],dataset['platelets'])\n",
    "plt.show()"
   ]
  },
  {
   "cell_type": "code",
   "execution_count": null,
   "metadata": {},
   "outputs": [],
   "source": [
    "\n"
   ]
  },
  {
   "cell_type": "code",
   "execution_count": null,
   "metadata": {},
   "outputs": [],
   "source": [
    "\n"
   ]
  },
  {
   "cell_type": "code",
   "execution_count": null,
   "metadata": {},
   "outputs": [],
   "source": []
  },
  {
   "cell_type": "code",
   "execution_count": null,
   "metadata": {},
   "outputs": [],
   "source": []
  },
  {
   "cell_type": "code",
   "execution_count": null,
   "metadata": {},
   "outputs": [],
   "source": []
  },
  {
   "cell_type": "code",
   "execution_count": null,
   "metadata": {},
   "outputs": [],
   "source": [
    "\n"
   ]
  },
  {
   "cell_type": "code",
   "execution_count": null,
   "metadata": {},
   "outputs": [],
   "source": []
  },
  {
   "cell_type": "code",
   "execution_count": null,
   "metadata": {},
   "outputs": [],
   "source": []
  }
 ],
 "metadata": {
  "kernelspec": {
   "display_name": "Python 3",
   "language": "python",
   "name": "python3"
  },
  "language_info": {
   "codemirror_mode": {
    "name": "ipython",
    "version": 3
   },
   "file_extension": ".py",
   "mimetype": "text/x-python",
   "name": "python",
   "nbconvert_exporter": "python",
   "pygments_lexer": "ipython3",
   "version": "3.6.7"
  }
 },
 "nbformat": 4,
 "nbformat_minor": 2
}
